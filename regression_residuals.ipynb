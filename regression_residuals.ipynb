{
  "nbformat": 4,
  "nbformat_minor": 0,
  "metadata": {
    "colab": {
      "provenance": [],
      "authorship_tag": "ABX9TyMhqXbhXGsuBYHaXF+8PMI5",
      "include_colab_link": true
    },
    "kernelspec": {
      "name": "python3",
      "display_name": "Python 3"
    },
    "language_info": {
      "name": "python"
    }
  },
  "cells": [
    {
      "cell_type": "markdown",
      "metadata": {
        "id": "view-in-github",
        "colab_type": "text"
      },
      "source": [
        "<a href=\"https://colab.research.google.com/github/foxtrotmike/CS909/blob/master/regression_residuals.ipynb\" target=\"_parent\"><img src=\"https://colab.research.google.com/assets/colab-badge.svg\" alt=\"Open In Colab\"/></a>"
      ]
    },
    {
      "cell_type": "markdown",
      "source": [
        "# Regression Tutorial: From prediction to dependence and causality\n",
        "By\n",
        "Fayyaz Minhas\n",
        "\n",
        "\n",
        "This Python notebook is designed to introduce the fundamentals of linear regression, a statistical method used for modeling the relationship between a dependent variable and one or more independent variables.\n",
        "\n",
        "Linear regression is a fundamental statistical and machine learning technique used to model and analyze the relationships between a dependent variable and one or more independent variables. The goal of linear regression is to find a linear equation that best predicts the dependent variable based on the values of the independent variables. This technique is widely used across various fields such as economics, biology, engineering, and social sciences due to its simplicity and interpretability. It can be used for prediction or inference tasks.\n",
        "\n",
        "### Prediction\n",
        "Prediction focuses on estimating future outcomes based on known variables, prioritizing model accuracy over understanding the relationships between variables. It often employs complex models to achieve high predictive performance on unseen data.\n",
        "\n",
        "### Inference\n",
        "Inference aims to understand the relationships and effects between variables, emphasizing the significance and interpretation of these relationships. It uses simpler, interpretable models to draw conclusions about causal connections and mechanisms.\n",
        "\n",
        "## Introduction to Linear Regression\n",
        "At its core, linear regression attempts to draw a straight line (hence \"linear\") that comes closest to the data points. This line represents the predicted values of the dependent variable as a function of the independent variable(s). The simplest form of linear regression, called simple linear regression, involves only two variables: one independent variable and one dependent variable. However, the concept can be extended to multiple independent variables. Below we discuss the formulation of a linear regression model.\n",
        "\n",
        "### Representation\n",
        "For a given input vector (with a \"1\" added for the bias), linear regression uses the following representation:\n",
        "\n",
        "$$f(\\mathbf{x}) = w_0+w_1x_1 w_2x_2 + ... + w_dx_d = w^T x+w_0 $$\n",
        "Here, $w$'s are the coefficients that measure the impact of each independent variable on the dependent variable.\n",
        "\n",
        "### Evaluation\n",
        "The goal of linear regression is to find the set of weights $w$ that best predicts the dependent variable $y$. To achieve this, we need a metric that quantifies how well our model's predictions match the actual data. This metric is known as the loss function, and in the case of linear regression, the most commonly used loss function is the Mean Squared Error (MSE) loss function.\n",
        "\n",
        "$$ MSE = \\frac{1}{N} \\sum_{i=1}^N (y_i - f(\\mathbf{x_i}))^2 $$\n",
        "\n",
        "It measures the error between target and predicted values for $N$ training examples.\n",
        "\n",
        "### Optimization\n",
        "\n",
        "The process of optimization in linear regression involves finding the set of weights that minimize the loss function (in this case, the MSE). This is typically done using one of two methods given below. Once the parameters of the model (weights) are obtained, we can use them to generate predictions over test examples.\n",
        "\n",
        "#### Analytical Solution (Normal Equation): For linear regression, there's a closed-form solution known as the Normal Equation that directly computes the optimal weights that minimize the MSE. The solution is given by:\n",
        "$$\\mathbf w=(\\mathbf X^T \\mathbf X)^{-1}\\mathbf X^T\\mathbf{y}$$\n",
        "$\\mathbf X$ is the matrix of input features (with an additional column of ones for the intercept), $\\mathbf y$ is the vector of the dependent variable. This method is straightforward and doesn't require iteration, but it can be computationally expensive for large datasets due to the matrix inversion operation.\n",
        "\n",
        "#### Gradient Descent:\n",
        "We can also solve it using gradient descent.\n",
        "## Historical Sidenote\n",
        "\n",
        "The term \"regression\" was coined by Sir Francis Galton in the late 19th century while studying the relationship between the heights of fathers and their sons. Galton observed that taller fathers tended to have sons who were also tall but closer to the average height, and shorter fathers had sons who were shorter but again, closer to the average. This phenomenon, where extreme values seemed to \"regress\" towards the mean over generations, led him to use the term \"regression towards mediocrity\" for this observation.\n",
        "\n",
        "In today's context, regression analysis has expanded far beyond Galton's initial observation, referring to a broad set of statistical methods for modeling and analyzing the relationships between one or more independent variables and a dependent variable. Despite the evolution of its applications, the term \"regression\" remains, now signifying the technique's foundational principle of estimating relationships among variables.\n",
        "\n",
        "## Application in This Tutorial\n",
        "In this tutorial, we start with an example of simple linear regression to illustrate the basic principles of fitting a linear model, analyzing its performance, and interpreting the results. Our example focuses on using a single independent variable to predict a dependent variable, providing a clear and straightforward illustration of how linear regression works.\n",
        "\n",
        "However, it's important to note that the principles and techniques we discuss can be extended to multiple linear regression, where more than one independent variable is used to predict the outcome. This flexibility makes linear regression a powerful tool for modeling complex relationships and understanding how multiple factors influence a particular outcome.\n",
        "\n",
        "By starting with the foundation of simple linear regression and acknowledging the pathway to multiple linear regression, this tutorial aims to equip you with the knowledge and skills to apply linear regression analysis to a wide range of real-world problems, whether they involve a single predictor or multiple predictors.\n",
        "\n",
        "\n",
        "The provided code demonstrates how to implement linear regression, assess model assumptions, and interpret results.\n",
        "\n",
        "# Installing Required Libraries\n",
        "\n",
        "We use statsmodels over scikit-learn for its focus on statistical inference, providing detailed summaries, tests, and diagnostics crucial for understanding the relationships in linear regression. It excels in educational contexts and when the aim is to interpret model coefficients and assumptions. In contrast, scikit-learn is tailored for predictive modeling and machine learning tasks, prioritizing model performance and scalability.\n",
        "\n"
      ],
      "metadata": {
        "id": "tz0OiFPibKMM"
      }
    },
    {
      "cell_type": "code",
      "source": [
        "!pip install statsmodels"
      ],
      "metadata": {
        "id": "M2nBQs04ceE4",
        "colab": {
          "base_uri": "https://localhost:8080/"
        },
        "outputId": "f1a54bad-2ee0-41d7-981d-c923839e3faa"
      },
      "execution_count": null,
      "outputs": [
        {
          "output_type": "stream",
          "name": "stdout",
          "text": [
            "Requirement already satisfied: statsmodels in /usr/local/lib/python3.10/dist-packages (0.14.1)\n",
            "Requirement already satisfied: numpy<2,>=1.18 in /usr/local/lib/python3.10/dist-packages (from statsmodels) (1.23.5)\n",
            "Requirement already satisfied: scipy!=1.9.2,>=1.4 in /usr/local/lib/python3.10/dist-packages (from statsmodels) (1.11.4)\n",
            "Requirement already satisfied: pandas!=2.1.0,>=1.0 in /usr/local/lib/python3.10/dist-packages (from statsmodels) (1.5.3)\n",
            "Requirement already satisfied: patsy>=0.5.4 in /usr/local/lib/python3.10/dist-packages (from statsmodels) (0.5.6)\n",
            "Requirement already satisfied: packaging>=21.3 in /usr/local/lib/python3.10/dist-packages (from statsmodels) (23.2)\n",
            "Requirement already satisfied: python-dateutil>=2.8.1 in /usr/local/lib/python3.10/dist-packages (from pandas!=2.1.0,>=1.0->statsmodels) (2.8.2)\n",
            "Requirement already satisfied: pytz>=2020.1 in /usr/local/lib/python3.10/dist-packages (from pandas!=2.1.0,>=1.0->statsmodels) (2023.4)\n",
            "Requirement already satisfied: six in /usr/local/lib/python3.10/dist-packages (from patsy>=0.5.4->statsmodels) (1.16.0)\n"
          ]
        }
      ]
    },
    {
      "cell_type": "markdown",
      "source": [
        " # Generating Synthetic Data\n",
        "\n",
        " We generate some simple synthetic data.\n",
        "\n",
        " Independent Variable (X): Simulates the explanatory variable with a normal distribution, mean of 1.5, and standard deviation of 2.5.\n",
        "\n",
        "Noise (noise): Random noise added to the dependent variable, also normally distributed, to mimic real-world data variability.\n",
        "\n",
        "Dependent Variable (y): The outcome variable calculated from the independent variable, a fixed intercept (2), a slope coefficient (0.3), and residual error."
      ],
      "metadata": {
        "id": "E4N71EC6oER6"
      }
    },
    {
      "cell_type": "code",
      "source": [
        "import numpy as np\n",
        "import matplotlib.pyplot as plt\n",
        "import statsmodels.api as sm\n",
        "from scipy.stats import probplot\n",
        "from scipy import stats\n",
        "import seaborn as sns\n",
        "from sklearn import preprocessing\n",
        "from sklearn.model_selection import train_test_split\n",
        "\n",
        "\n",
        "X = 2.5 * np.random.randn(1000) + 1.5   # Array of 1000 values with mean = 1.5, stddev = 2.5\n",
        "noise = 0.5 * np.random.randn(1000)       # Generate 1000 noise terms\n",
        "y = 2 + 0.3 * X + noise                   # Actual values of Y"
      ],
      "metadata": {
        "id": "kqK5_XrEbhXK"
      },
      "execution_count": null,
      "outputs": []
    },
    {
      "cell_type": "markdown",
      "source": [
        "# Splitting the Data\n",
        "This step divides the dataset into training and testing sets (90% training, 10% testing), a common practice for evaluating model performance on unseen data.\n",
        "\n"
      ],
      "metadata": {
        "id": "ZizrgC9Zby2N"
      }
    },
    {
      "cell_type": "code",
      "source": [
        "X_train, X_test, y_train, y_test = train_test_split(X, y, test_size=0.1, random_state=42)\n",
        "plt.figure();plt.scatter(X_test,y_test);plt.xlabel('x');plt.ylabel('y')\n"
      ],
      "metadata": {
        "colab": {
          "base_uri": "https://localhost:8080/",
          "height": 467
        },
        "id": "LksB35zGbx2f",
        "outputId": "a5e31e5f-13b5-4c4a-a909-dcc04fc346b9"
      },
      "execution_count": null,
      "outputs": [
        {
          "output_type": "execute_result",
          "data": {
            "text/plain": [
              "Text(0, 0.5, 'y')"
            ]
          },
          "metadata": {},
          "execution_count": 3
        },
        {
          "output_type": "display_data",
          "data": {
            "text/plain": [
              "<Figure size 640x480 with 1 Axes>"
            ],
            "image/png": "[encoded data removed]"
          },
          "metadata": {}
        }
      ]
    },
    {
      "cell_type": "markdown",
      "source": [
        "# Preparing Data for Modeling\n",
        "Adds a constant to the independent variable to include an intercept in the regression model.\n",
        "\n"
      ],
      "metadata": {
        "id": "lVKwsp0gb6uy"
      }
    },
    {
      "cell_type": "code",
      "source": [
        "X_train_const = sm.add_constant(X_train)\n",
        "X_test_const = sm.add_constant(X_test)\n"
      ],
      "metadata": {
        "id": "vdDOHSPUb5o1"
      },
      "execution_count": null,
      "outputs": []
    },
    {
      "cell_type": "markdown",
      "source": [
        "# Fitting the Linear Regression Model\n",
        "Uses Ordinary Least Squares (OLS) method to estimate the linear regression coefficients that minimize the sum of squared residuals.\n",
        "\n"
      ],
      "metadata": {
        "id": "nSRYVK7ucCRC"
      }
    },
    {
      "cell_type": "code",
      "source": [
        "model = sm.OLS(y_train, X_train_const).fit()\n"
      ],
      "metadata": {
        "id": "ioedpOxRb3Zt"
      },
      "execution_count": null,
      "outputs": []
    },
    {
      "cell_type": "markdown",
      "source": [
        "# Predicting and Assessing Model Performance\n",
        "Predicts the dependent variable values using the fitted model and the test data.\n",
        "\n"
      ],
      "metadata": {
        "id": "oCo4NDeCchzG"
      }
    },
    {
      "cell_type": "code",
      "source": [
        "y_pred = model.predict(X_test_const)\n"
      ],
      "metadata": {
        "id": "SH-ER5uecg_J"
      },
      "execution_count": null,
      "outputs": []
    },
    {
      "cell_type": "markdown",
      "source": [
        "# Visualizing Predicted data\n",
        "Let's Assess model accuracy by comparing actual and predicted outcomes by plotting them.\n",
        "To enhance the understanding of linear regression and evaluate the model's performance comprehensively, we can compute several key regression metrics: Root Mean Square Error (RMSE), R-squared (R2), Pearson correlation coefficient, and Spearman's rank correlation coefficient, etc. See the intuitive explanation of each below. Try gaining an understanding of these metrics (along with what are p-values!).\n",
        "\n"
      ],
      "metadata": {
        "id": "1RAJfnuEcp8W"
      }
    },
    {
      "cell_type": "code",
      "source": [
        "\n",
        "plt.figure();plt.scatter(y_test,y_pred);plt.xlabel('True Value');plt.ylabel('Predicted Value')\n",
        "from scipy.stats import pearsonr, spearmanr\n",
        "from sklearn.metrics import mean_squared_error, r2_score, mean_absolute_error, median_absolute_error, mean_squared_log_error\n",
        "\n",
        "\n",
        "# RMSE: Measures the average magnitude of the errors.\n",
        "rmse = np.sqrt(mean_squared_error(y_test, y_pred))\n",
        "print(f'RMSE: {rmse}')\n",
        "\n",
        "# R-squared: Proportion of variance in the dependent variable predictable from the independent variables.\n",
        "r2 = r2_score(y_test, y_pred)\n",
        "print(f'R-squared: {r2}')\n",
        "\n",
        "# Mean Absolute Error: Average absolute difference between the observed actual outcomes and the predictions.\n",
        "mae = mean_absolute_error(y_test, y_pred)\n",
        "print(f'MAE: {mae}')\n",
        "\n",
        "# Median Absolute Error: Median of all absolute differences between the predictions and actual values.\n",
        "medae = median_absolute_error(y_test, y_pred)\n",
        "print(f'Median Absolute Error: {medae}')\n",
        "\n",
        "# Pearson Correlation Coefficient: Measures the linear correlation between actual and predicted values.\n",
        "pearson_corr,p_pearson = pearsonr(y_test, y_pred)\n",
        "print(f'Pearson Correlation Coefficient: {pearson_corr} p-value: {p_pearson}')\n",
        "\n",
        "# Spearman's Rank Correlation Coefficient: Measures monotonicity of the relationship between actual and predicted values.\n",
        "spearman_corr, p_spearman = spearmanr(y_test, y_pred)\n",
        "print(f'Spearman Correlation Coefficient: {spearman_corr} p-value: {p_spearman}')\n",
        "\n",
        "# MSE: The average of the squares of the errors or deviations.\n",
        "mse = mean_squared_error(y_test, y_pred)\n",
        "print(f'MSE: {mse}')\n",
        "\n",
        "# MAPE: Measures the size of the error in percentage terms.\n",
        "mape = np.mean(np.abs((y_test - y_pred) / y_test)) * 100\n",
        "print(f'MAPE: {mape}%')\n",
        "\n",
        "# RMSLE: Provides a measure of how accurate the predictions are, penalizing under-predictions more than over-predictions.\n",
        "rmsle = np.sqrt(mean_squared_log_error(y_test, y_pred))\n",
        "print(f'RMSLE: {rmsle}')\n",
        "\n",
        "# Adjusted R-squared: Adjusted for the number of predictors in the model; more useful for comparing models with different numbers of independent variables.\n",
        "n = X_test.shape[0]  # Number of observations\n",
        "p = X_test_const.shape[1] - 1  # Number of predictors\n",
        "adjusted_r2 = 1 - (1-r2)*(n-1)/(n-p-1)\n",
        "print(f'Adjusted R-squared: {adjusted_r2}')\n",
        "\n",
        "# AIC and BIC: Criteria for model selection among a finite set of models; lower values suggest better models.\n",
        "# AIC is a tool for model selection that balances the model's fit to the data against its complexity, penalizing models with more parameters. It helps choose a model that explains the data well but with the fewest possible parameters.\n",
        "# BIC also aims for a balance between fit and complexity but imposes a stricter penalty on models with more parameters, especially as the sample size grows.\n",
        "aic = model.aic\n",
        "bic = model.bic\n",
        "print(f'AIC: {aic}')\n",
        "print(f'BIC: {bic}')\n",
        "\n",
        "# Ensure to include the relevant plotting and analysis code here as before...\n"
      ],
      "metadata": {
        "colab": {
          "base_uri": "https://localhost:8080/",
          "height": 666
        },
        "id": "GkIQdtkmcNDc",
        "outputId": "6c971870-c731-4b04-fbfe-ab5ebe1ea03f"
      },
      "execution_count": null,
      "outputs": [
        {
          "output_type": "stream",
          "name": "stdout",
          "text": [
            "RMSE: 0.5002335802290151\n",
            "R-squared: 0.6492486285208612\n",
            "MAE: 0.39013562636601995\n",
            "Median Absolute Error: 0.297482390292487\n",
            "Pearson Correlation Coefficient: 0.8058237483924423 p-value: 4.958681968619087e-24\n",
            "Spearman Correlation Coefficient: 0.7857665766576658 p-value: 3.632103041567713e-22\n",
            "MSE: 0.2502336347887385\n",
            "MAPE: 21.35510346568272%\n",
            "RMSLE: 0.16532769989732285\n",
            "Adjusted R-squared: 0.645669532893523\n",
            "AIC: 1253.8218920913432\n",
            "BIC: 1263.4266816179918\n"
          ]
        },
        {
          "output_type": "display_data",
          "data": {
            "text/plain": [
              "<Figure size 640x480 with 1 Axes>"
            ],
            "image/png": "[encoded data removed]"
          },
          "metadata": {}
        }
      ]
    },
    {
      "cell_type": "markdown",
      "source": [
        "# Model Summary\n",
        "\n",
        "The output of model.summary() from an OLS (Ordinary Least Squares) regression in statsmodels provides a wealth of information about the regression model. Let's break down the key terms, particularly focusing on the coefficients, their standard error, and confidence intervals, and discuss how to interpret these.\n",
        "\n",
        "## Coefficients (coef)\n",
        "Interpretation: The coefficients represent the estimated impact of each independent variable on the dependent variable. For example, the coefficient for x1 (0.3021) means that for each one-unit increase in x1, the dependent variable y is expected to increase by approximately 0.3021 units, holding all other variables constant. The coefficient for const (1.9973) is the intercept, indicating the expected value of y when all independent variables are zero.\n",
        "## Standard Error of the Coefficients (std err)\n",
        "Interpretation: The standard error measures the variability or uncertainty in the estimate of the coefficient. A smaller standard error indicates a more precise estimate of the coefficient. For example, the standard error for x1 is 0.007, suggesting that the estimate of 0.3021 for x1 is relatively precise.\n",
        "## T-Statistic (t)\n",
        "Interpretation: The t-statistic is the ratio of the coefficient to its standard error. It is used to determine the statistical significance of the coefficient. A larger absolute value of the t-statistic indicates a higher level of significance.\n",
        "## P-Value (P>|t|)\n",
        "Interpretation: The p-value tests the null hypothesis that the coefficient is equal to zero (no effect). A p-value below a certain threshold (e.g., 0.05) indicates that we can reject the null hypothesis and conclude that there is a statistically significant relationship between the independent variable and the dependent variable. In this summary, both the intercept and x1 have p-values of 0.000, indicating strong evidence against the null hypothesis and suggesting that these coefficients are significantly different from zero.\n",
        "## Confidence Interval ([0.025 0.975])\n",
        "Interpretation: The 95% confidence interval provides a range within which we are 95% confident the true coefficient lies. For x1, the interval is [0.288, 0.316], meaning we can be 95% confident that the true impact of x1 on y is between 0.288 and 0.316 units. This interval reflects the precision and reliability of the estimate; narrower intervals indicate more precise estimates.\n",
        "## How to Use This Information\n",
        "### Coefficients:\n",
        "Provide insight into the direction and magnitude of the relationship between each predictor and the response variable.\n",
        "### Standard Error:\n",
        "Helps assess the reliability of the coefficients; smaller standard errors suggest more reliable estimates.\n",
        "### P-Values:\n",
        "Allow us to determine the statistical significance of each predictor. Predictors with low p-values are considered significantly associated with the response variable.\n",
        "### Confidence Intervals:\n",
        "Offer a range for the coefficient estimates, helping to understand the uncertainty and variability around these estimates.\n",
        "\n",
        "In summary, this output helps in understanding not just the estimated effect of each predictor on the response variable but also the statistical significance and reliability of these estimates. It's a crucial step in model evaluation, guiding both interpretation and decision-making in the context of the regression analysis.\n",
        "\n",
        "\n",
        "\n",
        "\n"
      ],
      "metadata": {
        "id": "dR26zBCFfkGk"
      }
    },
    {
      "cell_type": "code",
      "source": [
        "print(model.summary())\n"
      ],
      "metadata": {
        "colab": {
          "base_uri": "https://localhost:8080/"
        },
        "id": "PsG4Lpjpfip7",
        "outputId": "c0f9b740-32e5-4332-ff99-182214f24130"
      },
      "execution_count": null,
      "outputs": [
        {
          "output_type": "stream",
          "name": "stdout",
          "text": [
            "                            OLS Regression Results                            \n",
            "==============================================================================\n",
            "Dep. Variable:                      y   R-squared:                       0.722\n",
            "Model:                            OLS   Adj. R-squared:                  0.721\n",
            "Method:                 Least Squares   F-statistic:                     2327.\n",
            "Date:                Sat, 10 Feb 2024   Prob (F-statistic):          1.57e-251\n",
            "Time:                        02:50:10   Log-Likelihood:                -624.91\n",
            "No. Observations:                 900   AIC:                             1254.\n",
            "Df Residuals:                     898   BIC:                             1263.\n",
            "Df Model:                           1                                         \n",
            "Covariance Type:            nonrobust                                         \n",
            "==============================================================================\n",
            "                 coef    std err          t      P>|t|      [0.025      0.975]\n",
            "------------------------------------------------------------------------------\n",
            "const          2.0554      0.019    108.830      0.000       2.018       2.092\n",
            "x1             0.2970      0.006     48.237      0.000       0.285       0.309\n",
            "==============================================================================\n",
            "Omnibus:                        1.085   Durbin-Watson:                   2.113\n",
            "Prob(Omnibus):                  0.581   Jarque-Bera (JB):                1.106\n",
            "Skew:                           0.002   Prob(JB):                        0.575\n",
            "Kurtosis:                       2.828   Cond. No.                         3.69\n",
            "==============================================================================\n",
            "\n",
            "Notes:\n",
            "[1] Standard Errors assume that the covariance matrix of the errors is correctly specified.\n"
          ]
        }
      ]
    },
    {
      "cell_type": "markdown",
      "source": [
        "# Advanced: Interpreting the Residual Error in Linear Regression\n",
        "Residual errors, the differences between the observed and predicted values, are critical in assessing a linear regression model's adequacy. Analyzing residuals allows us to evaluate the assumptions underlying the linear regression model, ensuring that the model provides a valid and reliable representation of the data. Here’s how to interpret residual error and its importance:\n",
        "\n",
        "## Lack of Correlation with Independent Variables\n",
        "### Why It's Important:\n",
        "Residuals should not be correlated with the independent variables. If residuals do show a pattern or correlation with the independent variables, this suggests that the model has not fully captured the relationship between the variables, possibly due to model misspecification, omission of relevant variables, or the presence of non-linear relationships. In linear regression, one of the key assumptions is that the residuals (the differences between the observed and predicted values) should be uncorrelated with the independent variables. This assumption is known as the assumption of homoscedasticity or homogeneity of variance.\n",
        "### How to Check:\n",
        "Plot residuals against each independent variable or the predicted values. If the plot shows no apparent pattern (i.e., the residuals are randomly scattered), this indicates no correlation. Patterns or trends suggest a problem with the model.\n",
        "## Normality of Residuals\n",
        "### Why It's Important:\n",
        "The assumption of normality of residuals underpins the statistical tests for coefficients (e.g., t-tests) used in linear regression. Normality implies that the model's errors are random and that the model is correctly specified for the data. This assumption ensures the reliability of confidence intervals and hypothesis tests.\n",
        "### How to Check:\n",
        "Use a Q-Q plot (quantile-quantile plot) to visually assess normality. If the residuals follow a straight line, they are approximately normal. Statistical tests like the Shapiro-Wilk test can also be used for a more formal assessment.\n",
        "## Interpretation When Residuals Are Not Normal\n",
        "### Implications:\n",
        "If residuals are not normally distributed, it may indicate issues like outliers, a skewed distribution of errors, or heteroscedasticity (non-constant variance of errors). This can affect the model's predictive accuracy and the validity of hypothesis tests.\n",
        "### How to Address:\n",
        "Consider transformations of the dependent variable (e.g., log transformation), adding missing variables that capture the non-linearity, or using robust regression methods or generalized linear models (GLMs) that do not assume normality of residuals.\n",
        "## Theoretical Explanation\n",
        "The normality of residuals is rooted in the Central Limit Theorem, which suggests that with a large enough sample size, the sampling distribution of the estimator (mean) will approximate a normal distribution, regardless of the population's distribution. Linear regression assumes that the error terms (residuals) are independent and identically distributed (i.i.d.) with a mean of zero and constant variance. These assumptions, along with normality, ensure that the Ordinary Least Squares (OLS) estimator is the Best Linear Unbiased Estimator (BLUE).\n",
        "\n",
        "When residuals are not normally distributed, it indicates that the error terms might not be i.i.d., suggesting model misspecification or violations of OLS assumptions. This can lead to biased or inefficient estimates of the regression coefficients, affecting the model's predictive performance and the accuracy of inference (e.g., confidence intervals and p-values for hypothesis testing).\n",
        "\n",
        "In practice, slight deviations from normality might not significantly impact large-sample regression analyses due to the Central Limit Theorem. However, in smaller samples or when deviations are substantial, it's crucial to address these issues to ensure the model's validity and reliability.\n",
        "\n",
        "## Criticality of analyzing residual errors\n",
        "Analyzing residual errors is paramount in regression analysis, ensuring that the model accurately captures the data's underlying structure without violating key assumptions. Addressing issues identified through residual analysis is crucial for improving model accuracy and ensuring the validity of statistical inferences derived from the model. However, the importance of this analysis can vary depending on the context of your study and the size of your dataset.\n",
        "\n",
        "### When It Is Critical\n",
        "#### Small Sample Sizes:\n",
        "For datasets with a small number of observations, ensuring the normality of residuals is crucial. The reliability of the statistical tests for the regression coefficients, which assume normality, is more susceptible to deviations from this assumption in smaller samples.\n",
        "#### Inference and Hypothesis Testing:\n",
        "When the primary goal of your regression analysis is to make inferences about the population, such as testing hypotheses about the regression coefficients or constructing confidence intervals, checking for normality in residuals becomes essential. The validity of these inferential statistics depends heavily on the normality assumption.\n",
        "##### Strict Assumptions Required:\n",
        " Certain types of regression analysis or specific disciplines may require strict adherence to assumptions, including normality of residuals, for theoretical or methodological reasons. In these cases, ensuring normality is critical for the acceptance and credibility of the results.\n",
        "### When It Might Be Less Critical\n",
        "#### Large Sample Sizes:\n",
        "The Central Limit Theorem suggests that as sample sizes increase, the sampling distribution of the mean (and other statistics) tends to be normal, regardless of the distribution of the data. For large datasets, slight deviations from normality in residuals are less likely to affect the overall conclusions drawn from hypothesis tests and confidence intervals.\n",
        "#### Predictive Modeling:\n",
        "If the primary goal of the regression model is prediction rather than inference, the normality of residuals becomes less critical. What matters more in predictive modeling is how well the model performs on unseen data, which is often evaluated using metrics like RMSE (Root Mean Square Error) or MAE (Mean Absolute Error) that do not assume normality.\n",
        "#### Alternative Models Available:\n",
        "For data that clearly violate the normality assumption, alternative models such as robust regression or generalized linear models (GLMs) can be used. These models either do not assume normality of residuals or are designed to handle data with specific distributions, making the normality check less critical."
      ],
      "metadata": {
        "id": "6TPzBKhEhH3r"
      }
    },
    {
      "cell_type": "code",
      "source": [
        "residuals = y_test - y_pred\n",
        "\n",
        "# Conducting Shapiro-Wilk test for normality\n",
        "stat, p_value = stats.shapiro(residuals)\n",
        "print(f'Shapiro-Wilk Test Statistic: {stat}, P-Value: {p_value}')\n",
        "\n",
        "# Interpretation of the Shapiro-Wilk test\n",
        "if p_value > 0.05:\n",
        "    print(\"The residuals seem to be normally distributed.\")\n",
        "else:\n",
        "    print(\"The residuals do not seem to be normally distributed.\")\n",
        "\n",
        "# Plotting residuals to check for normality\n",
        "plt.figure();sns.histplot(residuals, kde=True)\n",
        "plt.xlabel('Residuals')\n",
        "plt.ylabel('Frequency')\n",
        "plt.title('Distribution of Residuals')\n",
        "\n",
        "# Q-Q plot for the residuals (to check if the rediduals are normal)\n",
        "plt.figure(figsize=(10, 6))\n",
        "probplot(residuals, dist=\"norm\", plot=plt)\n",
        "plt.title('Q-Q Plot of Residuals')\n",
        "plt.show()\n",
        "# Calculate residuals\n",
        "residuals = model.resid\n",
        "\n",
        "# Calculate correlation between residuals and independent variable\n",
        "correlation = np.corrcoef(residuals, X_train)[0, 1]\n",
        "print(\"Correlation between residuals and independent variable:\", correlation)\n",
        "\n",
        "# Optionally, print the summary of the regression model to get more insights\n",
        "print(model.summary())\n"
      ],
      "metadata": {
        "id": "p4OTCU3y7AuD",
        "outputId": "ff5e65ac-ad37-410e-fa8a-006b0426441d",
        "colab": {
          "base_uri": "https://localhost:8080/",
          "height": 1000
        }
      },
      "execution_count": null,
      "outputs": [
        {
          "output_type": "stream",
          "name": "stdout",
          "text": [
            "Shapiro-Wilk Test Statistic: 0.983199417591095, P-Value: 0.23394258320331573\n",
            "The residuals seem to be normally distributed.\n"
          ]
        },
        {
          "output_type": "display_data",
          "data": {
            "text/plain": [
              "<Figure size 640x480 with 1 Axes>"
            ],
            "image/png": "[encoded data removed]"
          },
          "metadata": {}
        },
        {
          "output_type": "display_data",
          "data": {
            "text/plain": [
              "<Figure size 1000x600 with 1 Axes>"
            ],
            "image/png": "[encoded data removed]"
          },
          "metadata": {}
        },
        {
          "output_type": "stream",
          "name": "stdout",
          "text": [
            "Correlation between residuals and independent variable: -2.133190514307717e-15\n",
            "                            OLS Regression Results                            \n",
            "==============================================================================\n",
            "Dep. Variable:                      y   R-squared:                       0.722\n",
            "Model:                            OLS   Adj. R-squared:                  0.721\n",
            "Method:                 Least Squares   F-statistic:                     2327.\n",
            "Date:                Sat, 10 Feb 2024   Prob (F-statistic):          1.57e-251\n",
            "Time:                        02:51:38   Log-Likelihood:                -624.91\n",
            "No. Observations:                 900   AIC:                             1254.\n",
            "Df Residuals:                     898   BIC:                             1263.\n",
            "Df Model:                           1                                         \n",
            "Covariance Type:            nonrobust                                         \n",
            "==============================================================================\n",
            "                 coef    std err          t      P>|t|      [0.025      0.975]\n",
            "------------------------------------------------------------------------------\n",
            "const          2.0554      0.019    108.830      0.000       2.018       2.092\n",
            "x1             0.2970      0.006     48.237      0.000       0.285       0.309\n",
            "==============================================================================\n",
            "Omnibus:                        1.085   Durbin-Watson:                   2.113\n",
            "Prob(Omnibus):                  0.581   Jarque-Bera (JB):                1.106\n",
            "Skew:                           0.002   Prob(JB):                        0.575\n",
            "Kurtosis:                       2.828   Cond. No.                         3.69\n",
            "==============================================================================\n",
            "\n",
            "Notes:\n",
            "[1] Standard Errors assume that the covariance matrix of the errors is correctly specified.\n"
          ]
        }
      ]
    },
    {
      "cell_type": "code",
      "source": [
        "residuals@X_test"
      ],
      "metadata": {
        "id": "s7KwuOnN5p3F"
      },
      "execution_count": null,
      "outputs": []
    },
    {
      "cell_type": "markdown",
      "source": [
        "# Exercises\n",
        "\n",
        "Here are some exercises to try out.\n",
        "\n",
        "Non-linear Data with Linear Regression:\n",
        "Generate non-linear data and apply a simple linear regression model to observe its effectiveness in capturing non-linear relationships. Then, extend the model to polynomial regression to better fit the non-linear data. First generate a dataset where the relationship between the independent variable and the dependent variable is non-linear (e.g., quadratic or exponential) and the apply linear regression. For a change, you can do this sklearn. You can optionally extend this to polynomial regression using \"from sklearn.preprocessing import PolynomialFeatures\".\n",
        "\n",
        "Analyze the Impact of Outliers : Experiment: Add outliers to the dataset and observe how the regression coefficients and model performance change.\n",
        "\n",
        "Hint: Introduce outliers by modifying a small percentage of the dependent variable y with significantly higher or lower values. Refit the model and compare the coefficients and performance metrics (e.g., R-squared) before and after adding outliers.\n",
        "\n",
        "Regularization Techniques: Experiment: Explore the effects of regularization by implementing Lasso (L1 regularization) and Ridge (L2 regularization) regression models.\n",
        "\n",
        "Hint: While statsmodels does offer some support for regularization, you may find it more straightforward to use scikit-learn's Lasso and Ridge classes for this experiment. Compare the coefficients and performance metrics to the original linear regression model.\n",
        "\n"
      ],
      "metadata": {
        "id": "AekQaNTnpX3Y"
      }
    },
    {
      "cell_type": "markdown",
      "source": [
        "# Trying other regressors\n",
        "\n",
        "To apply different regression models such as OLS (Ordinary Least Squares), Ridge Regression, Lasso, Support Vector Regression (SVR), and Decision Tree Regression to the given dataset using scikit-learn, follow the code block below. This example demonstrates how to fit these models to the data, predict outcomes, and evaluate their performance using the R-squared metric.\n",
        "\n",
        "## Models:\n",
        "Each model represents a different approach to regression, from simple linear models (OLS, Ridge, Lasso) that incorporate regularization (Ridge, Lasso) to non-linear models (SVR, Decision Tree).\n",
        "### Ridge and Lasso Regression:\n",
        "These include regularization terms (alpha) to prevent overfitting by penalizing large coefficients.\n",
        "### Support Vector Regression (SVR):\n",
        "This model is based on the Support Vector Machine algorithm but adapted for regression, using parameters like C (regularization) and epsilon (margin of tolerance).\n",
        "### Decision Tree Regression:\n",
        "A non-linear model that uses tree-based structures to make predictions, where max_depth controls the depth of the tree.\n",
        "\n",
        "This code block provides a practical comparison of different regression models on a simple dataset, showcasing the flexibility of scikit-learn for exploring various regression techniques.Y\n",
        "\n",
        "## Exercise:\n",
        "Try these for synthetic non-linear data."
      ],
      "metadata": {
        "id": "J-o8u2UFrcXe"
      }
    },
    {
      "cell_type": "code",
      "source": [
        "from sklearn.linear_model import LinearRegression, Ridge, Lasso\n",
        "from sklearn.svm import SVR\n",
        "from sklearn.tree import DecisionTreeRegressor\n",
        "from sklearn.metrics import mean_squared_error\n",
        "# Initialize models\n",
        "\n",
        "# Reshape X to fit the models\n",
        "X = X.reshape(-1, 1)\n",
        "\n",
        "# Split the dataset\n",
        "X_train, X_test, y_train, y_test = train_test_split(X, y, test_size=0.1, random_state=42)\n",
        "# Fit models and print performance\n",
        "# Initialize models\n",
        "models = {\n",
        "    'OLS': LinearRegression(),\n",
        "    'Ridge': Ridge(alpha=1.0),\n",
        "    'Lasso': Lasso(alpha=0.1),\n",
        "    'SVR': SVR(C=100.0, epsilon=0.1),\n",
        "    'Decision Tree': DecisionTreeRegressor(max_depth=5)\n",
        "}\n",
        "\n",
        "# Fit models and make predictions\n",
        "for name, model in models.items():\n",
        "    model.fit(X_train, y_train)  # Fit model\n",
        "    y_pred = model.predict(X_test)  # Predict on test set\n",
        "    r2 = r2_score(y_test, y_pred)  # Calculate R-squared\n",
        "\n",
        "    print(f'{name} Regression R-squared: {r2:.4f}')\n"
      ],
      "metadata": {
        "id": "RgWb0kXhhFYz"
      },
      "execution_count": null,
      "outputs": []
    },
    {
      "cell_type": "markdown",
      "source": [
        "## Advanced Statistical Inference with Regression over count data\n",
        "\n",
        "We have discussed how we can use linear regression to infer the dependent between variables. Understanding regression models  within the context of count data (gene expression or others), requires grasping the nuances of statistical methods and their application in real-world scenarios. The provided code snippet is an insightful illustration of how different regression models can be applied to count data, specifically data that might follow a Negative Binomial distribution. Let's break down the purpose of these models and the interpretation of the coefficients in each model's summary.\n",
        "\n",
        "Linear Regression is typically used for continuous outcome data and assumes a linear relationship between the dependent and independent variables. It might not be the best choice for count data, which can be non-negative integers, because it can predict negative values and doesn't handle overdispersion (variance larger than the mean) well.\n",
        "\n",
        "Poisson Regression is specifically designed for count data and assumes the counts follow a Poisson distribution, where the mean equals the variance. It's suitable for data that represents the number of times an event occurs in a fixed interval of space or time.\n",
        "\n",
        "Negative Binomial Regression is another model for count data, particularly useful when the data exhibits overdispersion. It extends the Poisson regression by adding an extra parameter to model the variance independently of the mean, offering more flexibility.\n",
        "\n",
        "Data Generation: The code simulates Negative Binomial-distributed count data, where x is the independent variable, and y_nb is the dependent count variable generated based on x, with a varying probability of success influenced by x through a logistic function.\n",
        "\n",
        "Preliminary Linear Model: Before fitting the count models, a linear regression (OLS - Ordinary Least Squares) is applied as a preliminary step to inspect residuals. The plot of residuals vs. predicted values helps identify if the linear model assumptions are violated, such as non-linearity or heteroscedasticity (non-constant variance).\n",
        "\n",
        "Model Fitting: The code fits three models to the count data: linear regression, Poisson regression, and Negative Binomial regression. This allows comparing the fit of each model to the data, which is visualized in a plot showing the actual counts and the predictions from each model.\n",
        "\n",
        "Model Summaries: The summaries of each model provide detailed statistical information about the fit. The coefficients (coefs) in these summaries are crucial for interpretation:\n",
        "\n",
        "Linear Regression Summary: Coefficients represent the change in the dependent variable for a one-unit change in the independent variable, assuming a linear relationship.\n",
        "\n",
        "Poisson Regression Summary: Coefficients are interpreted in terms of log count. Exponentiating a coefficient gives the factor by which the expected count changes with a one-unit increase in the corresponding independent variable.\n",
        "\n",
        "Negative Binomial Regression Summary: Similar to Poisson, but coefficients account for overdispersion. The interpretation of coefficients remains in terms of the log count, adjusted for the model's extra dispersion parameter."
      ],
      "metadata": {
        "id": "xPZBlSnAtJzb"
      }
    },
    {
      "cell_type": "code",
      "source": [
        "import numpy as np\n",
        "import statsmodels.api as sm\n",
        "import matplotlib.pyplot as plt\n",
        "from statsmodels.discrete.discrete_model import NegativeBinomial\n",
        "\n",
        "# Independent variable\n",
        "x = np.arange(1, 101)\n",
        "\n",
        "# Generating Negative Binomial-distributed count data\n",
        "r = 10  # Number of successes\n",
        "p = 1 / (1 + np.exp(0.05 * x))  # Probability of success varies with x\n",
        "y_nb = np.random.negative_binomial(r, p)\n",
        "\n",
        "# Adding constant for intercept\n",
        "X_const = sm.add_constant(x)\n",
        "\n",
        "# Preliminary Linear Model Fit to Inspect Residuals\n",
        "linear_model_prelim = sm.OLS(y_nb, X_const).fit()\n",
        "residuals_prelim = y_nb - linear_model_prelim.predict(X_const)\n",
        "\n",
        "# Plot residuals to check for heteroscedasticity or non-linearity\n",
        "plt.figure(figsize=(10, 6))\n",
        "plt.scatter(linear_model_prelim.predict(X_const), residuals_prelim)\n",
        "plt.title('Residuals vs. Predicted (Linear Model)')\n",
        "plt.xlabel('Predicted Values')\n",
        "plt.ylabel('Residuals')\n",
        "plt.axhline(y=0, color='r', linestyle='--')\n",
        "plt.show()\n",
        "\n",
        "# Fit Models on Negative Binomial Data\n",
        "linear_model = sm.OLS(y_nb, X_const).fit()\n",
        "poisson_model = sm.GLM(y_nb, X_const, family=sm.families.Poisson()).fit()\n",
        "nb_model = NegativeBinomial(y_nb, X_const).fit()\n",
        "\n",
        "# Predictions\n",
        "y_pred_linear = linear_model.predict(X_const)\n",
        "y_pred_poisson = poisson_model.predict(X_const)\n",
        "y_pred_nb = nb_model.predict(X_const, which='mean')\n",
        "\n",
        "# Plot\n",
        "plt.figure(figsize=(10, 6))\n",
        "plt.scatter(x, y_nb, label='Actual Counts')\n",
        "plt.plot(x, y_pred_linear, color='blue', label='Linear Regression Fit')\n",
        "plt.plot(x, y_pred_poisson, color='green', label='Poisson Regression Fit')\n",
        "plt.plot(x, y_pred_nb, color='red', label='Negative Binomial Regression Fit')\n",
        "plt.xlabel('Independent Variable')\n",
        "plt.ylabel('Count')\n",
        "plt.legend()\n",
        "plt.show()\n",
        "\n",
        "# Print model summaries\n",
        "print(\"Linear Regression Summary:\\n\", linear_model.summary())\n",
        "print(\"\\nPoisson Regression Summary:\\n\", poisson_model.summary())\n",
        "print(\"\\nNegative Binomial Regression Summary:\\n\", nb_model.summary())\n"
      ],
      "metadata": {
        "id": "emrTT8ecZ2fg"
      },
      "execution_count": null,
      "outputs": []
    },
    {
      "cell_type": "markdown",
      "source": [
        "Comparing regression models objectively involves looking at several statistical measures that indicate the fit and predictive performance of each model. Since you have linear regression, Poisson regression, and Negative Binomial regression summaries, let's discuss how to compare these models based on their summaries.\n",
        "\n",
        "1. Goodness-of-Fit Metrics\n",
        "R-squared (Linear Regression): Indicates the proportion of the variance in the dependent variable that is predictable from the independent variable(s). For the linear model, an R-squared of 0.687 means about 68.7% of the variance in the dependent variable is explained by the model. However, R-squared is not available for Poisson and Negative Binomial regressions in the same sense because they use maximum likelihood estimation rather than least squares.\n",
        "2. Log-Likelihood: Higher values indicate a better fit. It measures how well the model explains the observed data. Among the models, the Negative Binomial regression has a log-likelihood of -502.37, which is higher (less negative) than that of the Poisson regression (-1736.2), suggesting the Negative Binomial model fits the data better than the Poisson model.\n",
        "3. Pseudo R-squared (for Poisson and Negative Binomial Regression): Provides an indication of the model fit, similar to R-squared in linear regression but calculated differently. The Negative Binomial model's Pseudo R-squared is 0.2345, indicating the proportion of the variance explained by the model. While there's no direct comparison with the R-squared from linear regression, it gives some sense of how well the model fits the data.\n",
        "4. Model Comparison Metrics\n",
        "AIC (Akaike Information Criterion) and BIC (Bayesian Information Criterion): These are not directly shown in your summaries but can usually be derived from the information given. Both criteria are used to compare models, with lower values indicating a better fit considering the complexity of the model. They penalize for the number of parameters to avoid overfitting. You can calculate AIC and BIC for each model and compare them directly.\n",
        "5. Deviance (for Poisson and Negative Binomial Regression): Measures the discrepancy between the fitted model and the saturated model (a theoretical model with a perfect fit). Lower deviance indicates a better fit. In your summaries, the Poisson regression shows a deviance of 2814.8, but there's no direct deviance comparison for the Negative Binomial model in the summary provided. However, the concept of LLR (Likelihood Ratio Test) p-value in the Negative Binomial summary suggests a significant improvement over the null model.\n",
        "6. Statistical Significance of Coefficients\n",
        "The t-values (for the linear model) and z-values (for Poisson and Negative Binomial models) along with their corresponding p-values indicate the statistical significance of each coefficient. In all models, the coefficients for x1 are highly significant (p < 0.05), indicating a strong relationship between the independent variable and the dependent variable.\n",
        "7. Overdispersion Check\n",
        "The Negative Binomial model includes an alpha parameter, which accounts for overdispersion. The presence of this parameter and its significance (p < 0.05) suggest that the Negative Binomial model is more appropriate for the data with overdispersion than the Poisson model, which assumes equal mean and variance.\n",
        "\n",
        "\n",
        "Given the summaries, the Negative Binomial regression appears to provide a better fit for the count data exhibiting overdispersion than both the linear and Poisson regressions."
      ],
      "metadata": {
        "id": "SYpW38Hp0u4j"
      }
    },
    {
      "cell_type": "markdown",
      "source": [
        "# Advanced: Inference For non-negative continuous data\n",
        "\n",
        "Gamma and Tweedie regressions are valuable tools for modeling non-negative continuous data, which is frequently encountered in various fields, including computational pathology. These models are especially useful for data that exhibit skewed distributions, such as time-to-event data, financial expenditures, or sizes of biological structures, which are common in medical and biological studies. Let's discuss how we might motivate the use of these regression models through a hypothetical code example and real-world applications, particularly in the context of image analysis in computational pathology.\n",
        "\n",
        "## Gamma Regression\n",
        "Gamma regression is well-suited for modeling non-negative continuous data that follow a Gamma distribution, characterized by its skewness. It is often used for data that represent times, rates, or other quantities that are strictly positive and have a skewed distribution.\n",
        "\n",
        "## Tweedie Regression\n",
        "Tweedie regression is a flexible model that can handle a combination of Gaussian, Poisson, and Gamma distributions. It is particularly useful for data that have a mass at zero and continuous outcomes, making it a versatile choice for diverse datasets.\n",
        "\n",
        "The code begins by simulating non-negative continuous data that could represent tumor growth rates or the area of tissue damaged by disease.\n",
        "It then fits both Gamma and Tweedie regression models to this data, providing a method to understand how different factors (represented by the independent variable x) might influence these outcomes.\n",
        "The plots and summaries of these models help in assessing the fit and understanding the relationship between variables.\n",
        "\n",
        "The interpretation of coefficients in model summaries varies depending on the type of regression model being used. Let's break down the interpretation for each of the regression models discussed: Linear Regression, Poisson Regression, Gamma Regression, and Tweedie Regression.\n",
        "\n",
        "Linear Regression:\n",
        "In a linear regression model, the coefficients represent the change in the dependent variable (outcome) for a one-unit change in the corresponding independent variable, assuming all other variables remain constant. Here's the exact interpretation:\n",
        "\n",
        "Intercept (Constant): This is the value of the dependent variable when all independent variables are zero.\n",
        "Coefficients for Independent Variables: These coefficients represent the change in the dependent variable for a one-unit change in the corresponding independent variable, holding all other independent variables constant.\n",
        "Poisson Regression:\n",
        "In Poisson regression, the coefficients are interpreted in terms of log count. Exponentiating a coefficient gives the factor by which the expected count changes with a one-unit increase in the corresponding independent variable. Here's the exact interpretation:\n",
        "\n",
        "Intercept (Constant): This represents the expected log count when all independent variables are zero.\n",
        "Coefficients for Independent Variables: Exponentiating these coefficients gives the multiplicative effect on the expected count for a one-unit increase in the corresponding independent variable, holding all other variables constant. For example, if the coefficient for a variable is 0.05, then for each one-unit increase in that variable, the expected count is multiplied by exp(0.05).\n",
        "Gamma Regression:\n",
        "In Gamma regression, the interpretation of coefficients is similar to that of linear regression. The coefficients represent the change in the dependent variable for a one-unit change in the corresponding independent variable. Here's the exact interpretation:\n",
        "\n",
        "Intercept (Constant): This is the value of the dependent variable when all independent variables are zero.\n",
        "Coefficients for Independent Variables: These coefficients represent the change in the dependent variable for a one-unit change in the corresponding independent variable, holding all other independent variables constant.\n",
        "Tweedie Regression:\n",
        "Tweedie regression is more complex because it can handle a combination of different distributions. The interpretation of coefficients in Tweedie regression depends on the specific power parameter chosen for the distribution. Generally, the coefficients represent the change in the expected value of the dependent variable for a one-unit change in the corresponding independent variable. Here's the general interpretation:\n",
        "\n",
        "Intercept (Constant): This represents the expected value of the dependent variable when all independent variables are zero.\n",
        "Coefficients for Independent Variables: These coefficients represent the change in the expected value of the dependent variable for a one-unit change in the corresponding independent variable, holding all other independent variables constant.\n",
        "In all cases, interpreting coefficients requires considering the context of the data and the specific model assumptions. It's essential to interpret coefficients in conjunction with other diagnostic measures and to exercise caution, especially when making causal inferences."
      ],
      "metadata": {
        "id": "arHcJwIC3iOe"
      }
    },
    {
      "cell_type": "code",
      "source": [],
      "metadata": {
        "id": "w4NsnbFr3hM8"
      },
      "execution_count": null,
      "outputs": []
    },
    {
      "cell_type": "code",
      "source": [
        "import numpy as np\n",
        "import statsmodels.api as sm\n",
        "import matplotlib.pyplot as plt\n",
        "from statsmodels.genmod.generalized_linear_model import GLM\n",
        "from statsmodels.genmod.families import Gamma, Tweedie\n",
        "\n",
        "# Simulate data for a hypothetical study\n",
        "np.random.seed(42)\n",
        "x = np.arange(1, 101)  # Independent variable: could represent days, dosage, etc.\n",
        "\n",
        "# Gamma-distributed data for tumor growth rates or tissue damage area\n",
        "y_gamma = np.random.gamma(shape=2, scale=(0.1 * x), size=len(x))\n",
        "\n",
        "# Adding constant for intercept\n",
        "X_const = sm.add_constant(x)\n",
        "\n",
        "# Fit Gamma Regression Model\n",
        "gamma_model = GLM(y_gamma, X_const, family=Gamma()).fit()\n",
        "\n",
        "# Fit Tweedie Regression Model with a power parameter indicating the distribution near Gamma\n",
        "tweedie_model = GLM(y_gamma, X_const, family=Tweedie(var_power=1.5)).fit()\n",
        "\n",
        "# Predictions\n",
        "y_pred_gamma = gamma_model.predict(X_const)\n",
        "y_pred_tweedie = tweedie_model.predict(X_const)\n",
        "\n",
        "# Plot\n",
        "plt.figure(figsize=(10, 6))\n",
        "plt.scatter(x, y_gamma, label='Actual Data')\n",
        "plt.plot(x, y_pred_gamma, color='blue', label='Gamma Regression Fit')\n",
        "plt.plot(x, y_pred_tweedie, color='red', label='Tweedie Regression Fit')\n",
        "plt.xlabel('Independent Variable')\n",
        "plt.ylabel('Measured Outcome')\n",
        "plt.legend()\n",
        "plt.title('Gamma vs. Tweedie Regression Fits')\n",
        "plt.show()\n",
        "\n",
        "# Print model summaries\n",
        "print(\"Gamma Regression Summary:\\n\", gamma_model.summary())\n",
        "print(\"\\nTweedie Regression Summary:\\n\", tweedie_model.summary())\n"
      ],
      "metadata": {
        "id": "7BOF8Hz6sbpB"
      },
      "execution_count": null,
      "outputs": []
    },
    {
      "cell_type": "markdown",
      "source": [
        "## Advanced: Inferring causality (does X cause y or does y cause X)\n",
        "\n",
        "We can use simple regression modeling to infer causal directions from observational data under certain assumptions. For more details, please see:\n",
        "\n",
        "https://github.com/foxtrotmike/CS909/blob/master/inferring_causality.ipynb\n"
      ],
      "metadata": {
        "id": "olmYmnQH7dQO"
      }
    },
    {
      "cell_type": "markdown",
      "source": [
        "# Advanced: Mixed Effect Models\n",
        "\n",
        "See: https://github.com/foxtrotmike/stats/blob/main/mixed_effects_tutorial.ipynb\n",
        "See: https://github.com/foxtrotmike/stats/blob/main/mixed_effects_model_tutorial.ipynb\n",
        "\n"
      ],
      "metadata": {
        "id": "aLgWnDMjzCZT"
      }
    },
    {
      "cell_type": "code",
      "source": [],
      "metadata": {
        "id": "48J5OD-f2Dwr"
      },
      "execution_count": null,
      "outputs": []
    }
  ]
}