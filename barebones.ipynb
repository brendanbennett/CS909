{
  "nbformat": 4,
  "nbformat_minor": 0,
  "metadata": {
    "colab": {
      "name": "barebones.ipynb",
      "provenance": [],
      "toc_visible": true,
      "authorship_tag": "ABX9TyMYNrc22rf6MY1/aJ/Ozzz7",
      "include_colab_link": true
    },
    "kernelspec": {
      "name": "python3",
      "display_name": "Python 3"
    }
  },
  "cells": [
    {
      "cell_type": "markdown",
      "metadata": {
        "id": "view-in-github",
        "colab_type": "text"
      },
      "source": [
        "<a href=\"https://colab.research.google.com/github/foxtrotmike/CS909/blob/master/barebones.ipynb\" target=\"_parent\"><img src=\"https://colab.research.google.com/assets/colab-badge.svg\" alt=\"Open In Colab\"/></a>"
      ]
    },
    {
      "cell_type": "markdown",
      "source": [
        "# The Representation, Evaluation and Optimization Framework in PyTorch\n",
        "\n",
        "(Fayyaz Minhas)\n",
        "\n",
        "Machine learning models, at their core, consist of three main components: Representation, Evaluation, and Optimization. Understanding these components is crucial for developing and training models effectively. In this tutorial, we'll explore these concepts through a single neuron model example implemented in PyTorch, a popular machine learning library.\n",
        "\n",
        "\n",
        "## Representation\n",
        "\n",
        "In machine learning, representation refers to how input data is transformed into a form that the model can understand and work with. This transformation is achieved through a combination of model architecture and the weights that define the specific model instance.\n",
        "\n",
        "###  Linear or Single Neuron Model\n",
        "Our example focuses on a linear model or a single neuron model, which can be thought of as the simplest form of a neural network. This neuron takes inputs, applies a weighted sum followed by an activation function (if any), and produces an output. The weights (including a bias term) determine how much influence each input has on the output.\n",
        "\n",
        "## Evaluation\n",
        "Evaluation is about measuring how well the model performs. This measurement is done using a loss function, which quantifies the difference between the predicted outputs of the model and the actual target values.\n",
        "\n",
        "### Loss Functions\n",
        "In our example, different loss functions are implemented, such as hinge loss, squared loss, and logistic loss. These functions evaluate the performance of our model during training. The choice of loss function depends on the specific problem being solved.\n",
        "\n",
        "## Optimization\n",
        "Optimization is the process of adjusting the model's weights to minimize the loss. This process involves calculating gradients (using automatic differentiation [https://en.wikipedia.org/wiki/Automatic_differentiation]) and updating the weights in the direction that reduces the loss.\n",
        "\n",
        "### Gradient Descent\n",
        "Our model uses gradient descent for optimization, facilitated by PyTorch's automatic differentiation and optimization tools. The backward() method calculates gradients, and the optimizer updates the weights.\n",
        "\n",
        "\n",
        "Let's dive in. You can ignore the plotting code below.\n"
      ],
      "metadata": {
        "id": "Ol_GhsNv0893"
      }
    },
    {
      "cell_type": "code",
      "metadata": {
        "id": "Znhwloohk7Bj"
      },
      "source": [
        "# -*- coding: utf-8 -*-\n",
        "\"\"\"\n",
        "@author: Dr. Fayyaz Minhas\n",
        "2D Scatter Plotter for Classification\n",
        "\"\"\"\n",
        "from numpy.random import randn #importing randn\n",
        "import numpy as np #importing numpy\n",
        "import matplotlib.pyplot as plt #importing plotting module\n",
        "import itertools\n",
        "import warnings\n",
        "\n",
        "def plotit(X,Y=None,clf=None,  conts = None, ccolors = ('b','k','r'), colors = ('c','y'), markers = ('s','o'), hold = False, transform = None,extent = None,**kwargs):\n",
        "    \"\"\"\n",
        "    A function for showing data scatter plot and classification boundary\n",
        "    of a classifier for 2D data\n",
        "        X: nxd  matrix of data points\n",
        "        Y: (optional) n vector of class labels\n",
        "        clf: (optional) classification/discriminant function handle\n",
        "        conts: (optional) contours (if None, contours are drawn for each class boundary)\n",
        "        ccolors: (optional) colors for contours\n",
        "        colors: (optional) colors for each class (sorted wrt class id)\n",
        "            can be 'scaled' or 'random' or a list/tuple of color ids\n",
        "        markers: (optional) markers for each class (sorted wrt class id)\n",
        "        hold: Whether to hold the plot or not for overlay (default: False).\n",
        "        transform: (optional) a function handle for transforming data before passing to clf\n",
        "        kwargs: any keyword arguments to be passed to clf (if any)\n",
        "    \"\"\"\n",
        "    if clf is not None and X.shape[1]!=2:\n",
        "        warnings.warn(\"Data Dimensionality is not 2. Unable to plot.\")\n",
        "        return\n",
        "    if markers is None:\n",
        "        markers = ('.',)\n",
        "    eps=1e-6\n",
        "    d0,d1 = (0,1)\n",
        "    if extent is None:\n",
        "        minx, maxx = np.min(X[:,d0])-eps, np.max(X[:,d0])+eps\n",
        "        miny, maxy = np.min(X[:,d1])-eps, np.max(X[:,d1])+eps\n",
        "        extent = [minx,maxx,miny,maxy]\n",
        "    else:\n",
        "        [minx,maxx,miny,maxy] = extent\n",
        "    if Y is not None:\n",
        "        classes = sorted(set(Y))\n",
        "        if conts is None or len(conts)<2:\n",
        "            #conts = list(classes)\n",
        "            vmin,vmax = classes[0]-eps,classes[-1]+eps\n",
        "        else:\n",
        "            vmin,vmax= np.min(conts)-eps,np.max(conts)+eps\n",
        "\n",
        "    else:\n",
        "        vmin,vmax=-2-eps,2+eps\n",
        "        if conts is None or len(conts)<2:\n",
        "            conts = sorted([-1+eps,0,1-eps])\n",
        "        else:\n",
        "            vmin,vmax= np.min(conts)-eps,np.max(conts)+eps\n",
        "\n",
        "    if clf is not None:\n",
        "        npts = 150\n",
        "        x = np.linspace(minx,maxx,npts)\n",
        "        y = np.linspace(miny,maxy,npts)\n",
        "        t = np.array(list(itertools.product(x,y)))\n",
        "        if transform is not None:\n",
        "            t = transform(t)\n",
        "        z = clf(t,**kwargs)\n",
        "\n",
        "        z = np.reshape(z,(npts,npts)).T\n",
        "\n",
        "\n",
        "        plt.contour(x,y,z,conts,linewidths = [2],colors=ccolors,extent=extent, label='f(x)=0')\n",
        "        #plt.imshow(np.flipud(z), extent = extent, cmap=plt.cm.Purples, vmin = -2, vmax = +2); plt.colorbar()\n",
        "        plt.pcolormesh(x, y, z,cmap=plt.cm.Purples,vmin=vmin,vmax=vmax);plt.colorbar()\n",
        "        plt.axis(extent)\n",
        "\n",
        "    if Y is not None:\n",
        "        for i,y in enumerate(classes):\n",
        "\n",
        "            if colors is None or colors=='scaled':\n",
        "                cc = np.array([[i,i,i]])/float(len(classes))\n",
        "            elif colors =='random':\n",
        "                cc = np.array([[np.random.rand(),np.random.rand(),np.random.rand()]])\n",
        "            else:\n",
        "                cc = colors[i%len(colors)]\n",
        "\n",
        "            mm = markers[i%len(markers)]\n",
        "            plt.scatter(X[Y==y,d0],X[Y==y,d1], marker = mm,c = cc, s = 50)\n",
        "\n",
        "    else:\n",
        "        plt.scatter(X[:,d0],X[:,d1],marker = markers[0], c = 'k', s = 5)\n",
        "    plt.xlabel('$x_1$')\n",
        "    plt.ylabel('$x_2$')\n",
        "    if not hold:\n",
        "        plt.grid()\n",
        "        plt.show()\n",
        "    return extent\n"
      ],
      "execution_count": null,
      "outputs": []
    },
    {
      "cell_type": "code",
      "metadata": {
        "id": "TG-En3BVlBGG",
        "colab": {
          "base_uri": "https://localhost:8080/",
          "height": 710
        },
        "outputId": "2fea50a3-a84e-460d-ad44-ed65fbb72ac0"
      },
      "source": [
        "\"\"\"\n",
        "Author: Fayyaz Minhas\n",
        "A barebones single neuron model example with pytorch\n",
        "You will need plotit for this (https://github.com/foxtrotmike/plotit)\n",
        "Demonstrates:\n",
        "    Representation, Evaluation and Optimization\n",
        "    concept of loss functions, SRM objective function\n",
        "    automatic differentiation\n",
        "    optimization\n",
        "\n",
        "\"\"\"\n",
        "import numpy as np\n",
        "import matplotlib.pyplot as plt\n",
        "import torch\n",
        "import torch.nn.modules as nn\n",
        "import torch.optim as optim\n",
        "\n",
        "#Let's generate some data\n",
        "#inputs = 2*np.array([[0,0],[0,1],[1,0],[1,1]],dtype=np.float)-1\n",
        "#targets = np.array([-1,-1,-1,1],dtype=np.float)\n",
        "inputs = np.array([[-1,0],[0,1],[4,4],[2,3]])\n",
        "targets = np.array([-1,-1,+1,+1])\n",
        "device = torch.device('cpu')\n",
        "#device = torch.device('cuda') # Uncomment this to run on GPU\n",
        "x = torch.from_numpy(inputs).float()\n",
        "y = torch.from_numpy(targets).float()\n",
        "N, D_in,D_out = x.shape[0], x.shape[1], 1\n",
        "# Loss function implementation\n",
        "def hinge(y_true, y_pred):\n",
        "    zero = torch.Tensor([0])\n",
        "    return torch.max(zero, 1 - y_true * y_pred)\n",
        "def sq_loss(y_true,y_pred):\n",
        "    return (y_true-y_pred)**2\n",
        "def logistic_loss(y_true,y_pred):\n",
        "    return torch.log(1+torch.exp(- y_true * y_pred))\n",
        "# Other loss functions can also be implemented\n",
        "eps = 1e-6\n",
        "# Create random Tensors for weights; setting requires_grad=True means that we\n",
        "# want to compute gradients for these Tensors during the backward pass.\n",
        "wb = torch.randn(D_in+1, device=device, requires_grad=True)\n",
        "#Note: we have added one additional weight (for bias)\n",
        "learning_rate = 0.01\n",
        "optimizer = optim.SGD([wb], lr=learning_rate)\n",
        "L = [] #history of losses\n",
        "for epoch in range(500):\n",
        "  # Forward pass: compute predicted y using operations on Tensors. Since w1\n",
        "  # has requires_grad=True, operations involving w1 will cause\n",
        "  # PyTorch to build a computational graph, allowing automatic computation of\n",
        "  # gradients.\n",
        "  epoch_loss = 0.0\n",
        "  for i in range(len(y)):\n",
        "      \"\"\"\n",
        "      # REPRESENTATION\n",
        "      \"\"\"\n",
        "      w = wb[1:]\n",
        "      b = wb[0]\n",
        "      y_pred = torch.dot(w,x[i,:])+b #Implementing w'x+b\n",
        "      \"\"\"\n",
        "      # EVALUATION\n",
        "      \"\"\"\n",
        "      # Compute and print loss. Loss is a Tensor of shape (), and loss.item()\n",
        "      # is a Python number giving its value.\n",
        "      #loss = (y_pred - y).pow(2).mean() #loss = lossf(y_pred,y)\n",
        "      loss = hinge(y[i],y_pred)\n",
        "      #loss = logistic_loss(y_true,y_pred)\n",
        "      obj = loss+0.0*torch.dot(w,w) #empirical loss + regularization\n",
        "      epoch_loss+=loss#.item()\n",
        "\n",
        "      \"\"\"\n",
        "      #OPTIMIZATION\n",
        "      \"\"\"\n",
        "      # Use autograd to compute the backward pass. This call will compute the\n",
        "      # gradient of loss with respect to all Tensors with requires_grad=True.\n",
        "      # After this call w1.grad will be Tensors holding the gradient\n",
        "      # of the loss with respect to w1.\n",
        "      obj.backward()\n",
        "\n",
        "      # Update weights using gradient descent. For this step we just want to mutate\n",
        "      # the values of w1 in-place; we don't want to build up a computational\n",
        "      # graph for the update steps, so we use the torch.no_grad() context manager\n",
        "      # to prevent PyTorch from building a computational graph for the updates\n",
        "      \"\"\"\n",
        "      with torch.no_grad():\n",
        "          wb = wb - learning_rate * wb.grad\n",
        "      wb.requires_grad = True\n",
        "      \"\"\"\n",
        "      # Using built-in optimizer\n",
        "      optimizer.step()\n",
        "      optimizer.zero_grad()\n",
        "  L.append(epoch_loss.detach().numpy()) #save for history and plotting\n",
        "\n",
        "\n",
        "wbn = wb.detach().numpy()\n",
        "def clf(inputs):\n",
        "  return inputs@wbn[1:]+wbn[0]\n",
        "plt.close(\"all\")\n",
        "plt.plot(L)\n",
        "plt.grid(); plt.xlabel('Epochs'); plt.ylabel('value');plt.legend(['Loss','Objective'])\n",
        "print(\"Predictions: \",clf(inputs))\n",
        "print(\"Weights: \",wbn)\n",
        "plt.figure()\n",
        "\n",
        "\n",
        "plotit(inputs,targets,clf=clf,conts=[0],extent = [-5,+5,-5,+5])"
      ],
      "execution_count": null,
      "outputs": [
        {
          "output_type": "stream",
          "name": "stderr",
          "text": [
            "/usr/local/lib/python3.7/dist-packages/ipykernel_launcher.py:25: DeprecationWarning: `np.float` is a deprecated alias for the builtin `float`. To silence this warning, use `float` by itself. Doing this will not modify any behavior and is safe. If you specifically wanted the numpy scalar type, use `np.float64` here.\n",
            "Deprecated in NumPy 1.20; for more details and guidance: https://numpy.org/devdocs/release/1.20.0-notes.html#deprecations\n",
            "/usr/local/lib/python3.7/dist-packages/ipykernel_launcher.py:26: DeprecationWarning: `np.float` is a deprecated alias for the builtin `float`. To silence this warning, use `float` by itself. Doing this will not modify any behavior and is safe. If you specifically wanted the numpy scalar type, use `np.float64` here.\n",
            "Deprecated in NumPy 1.20; for more details and guidance: https://numpy.org/devdocs/release/1.20.0-notes.html#deprecations\n"
          ]
        },
        {
          "output_type": "stream",
          "name": "stdout",
          "text": [
            "Predictions:  [-3.4704569  -1.38213801  5.71128559  2.79449975]\n",
            "Weights:  [-2.64199     0.82846695  1.2598519 ]\n"
          ]
        },
        {
          "output_type": "stream",
          "name": "stderr",
          "text": [
            "/usr/local/lib/python3.7/dist-packages/ipykernel_launcher.py:68: UserWarning: The following kwargs were not used by contour: 'label'\n"
          ]
        },
        {
          "output_type": "display_data",
          "data": {
            "image/png": "[encoded data removed]",
            "text/plain": [
              "<Figure size 432x288 with 1 Axes>"
            ]
          },
          "metadata": {
            "needs_background": "light"
          }
        },
        {
          "output_type": "display_data",
          "data": {
            "image/png": "[encoded data removed]",
            "text/plain": [
              "<Figure size 432x288 with 2 Axes>"
            ]
          },
          "metadata": {
            "needs_background": "light"
          }
        },
        {
          "output_type": "execute_result",
          "data": {
            "text/plain": [
              "[-5, 5, -5, 5]"
            ]
          },
          "metadata": {},
          "execution_count": 5
        }
      ]
    },
    {
      "cell_type": "markdown",
      "source": [
        "## Exercise Questions\n",
        "\n",
        "What happens if you:\n",
        "1. change the input from bipolar to binary\n",
        "2. change the targets from bipolar to binary\n",
        "3. change the loss function\n",
        "4. change the activation function. See if you can add an activation function (such as torch.tanh on the net input (y_pred) and study its impact on the classification? For prediction labels such as +1/-1, is it okay to use Rectified Linear (ReLU) activation?\n",
        "5. change the regularization parameter\n",
        "6. change the learning rate\n",
        "\n",
        "Can you solve a linearly inseparable classification problem with this code? How?\n",
        "\n",
        "Can you solve a regression problem with this approach?\n"
      ],
      "metadata": {
        "id": "32hvAFyO1zBX"
      }
    }
  ]
}