{
  "nbformat": 4,
  "nbformat_minor": 0,
  "metadata": {
    "colab": {
      "name": "pvalues.ipynb",
      "provenance": [],
      "authorship_tag": "ABX9TyP5h2Jaz1nI4SsG5KWwTHqt",
      "include_colab_link": true
    },
    "kernelspec": {
      "name": "python3",
      "display_name": "Python 3"
    },
    "language_info": {
      "name": "python"
    }
  },
  "cells": [
    {
      "cell_type": "markdown",
      "metadata": {
        "id": "view-in-github",
        "colab_type": "text"
      },
      "source": [
        "<a href=\"https://colab.research.google.com/github/foxtrotmike/CS909/blob/master/pvalues.ipynb\" target=\"_parent\"><img src=\"https://colab.research.google.com/assets/colab-badge.svg\" alt=\"Open In Colab\"/></a>"
      ]
    },
    {
      "cell_type": "markdown",
      "metadata": {
        "id": "fOYlXKCHrrVU"
      },
      "source": [
        "# P-values are random variables\n",
        "## by Fayyaz Minhas\n",
        "\n",
        "Let's assume I give you two sets A and B of n = 3 random numbers each and a \"null\" hypothesis that the processes generating these two sets of numbers are such that the means of the two sets are the same. If we make an assumption that the generating processes for these sets are Gaussian with same variance, i.e., the numbers in each set are independent draws from Gaussian distributions with the same variance, then we can use the t-test to test this hypothesis. As the exact test or how that test works is not relevant to this discussion, we shall not bother explaining how the t-test actually works and instead we shall focus on the results of the t-test which like other statistical tests generates two things: a \"t\"-statistic, i.e., a value whose magnitude tells us something useful (in this case about the difference between means of A and B) and a \"p-value\" which tells us how likely, simply by chance, is it to get an extreme a statistic as we got from the test. Typically, p-values are used to make statements like \"since p-value > 0.05, we fail to reject the null hypothesis\" meaning that we cannot confidently say whether the means are same (or different) or \"since p-value < 0.05, we can reject the null hypothesis\" meaning that the means are not the same. Different people can use different thresholds and different tests to test different hypotheses under different assumptions. For example, we can measure the degree of correlation between two random variables using pearson correlation and use p-values there to see if the correlation is statistically significant or not. However, what most people fail to acknowledge is the fact that p-values are random variables themeselves. In this notebook we shall see this in action. This has implications on how p-values are interpreted and how using p-values alone without measuring corresponding effect sizes can be a bad idea. If you want to explore more on this, please see [this paper](https://royalsocietypublishing.org/doi/10.1098/rsbl.2019.0174) that advocates avoiding p-values. You can also watch [this video](https://www.youtube.com/watch?v=ncqcFNHmMoc) by NN Taleb his papers on the subject [1](https://fooledbyrandomness.com/pvalues.pdf)[2](https://arxiv.org/pdf/1603.07532).\n",
        "\n",
        "\n",
        "Let's generate $n = 3$ random numbers in two sets $a$ and $b$. First we generate them in a way that their means are truly identical and use the t-test to get the corresponding p-value. We do this for a number of trials and plot the cumulative histogram of p-values."
      ]
    },
    {
      "cell_type": "code",
      "metadata": {
        "colab": {
          "base_uri": "https://localhost:8080/",
          "height": 279
        },
        "id": "XQrjsHheoZrJ",
        "outputId": "4ba6f01c-8b75-4a28-e97c-49e952858547"
      },
      "source": [
        "from scipy import stats\n",
        "import numpy as np\n",
        "import matplotlib.pyplot as plt\n",
        "#let's generate data from the same distribution, n samples at a time and apply the t-test\n",
        "n = 3\n",
        "T = [];P=[]; bins = np.linspace(0,1,int(1/0.05))\n",
        "for _ in range(1000):\n",
        "  a = stats.norm.rvs(loc=0,scale=1,size=n)\n",
        "  b = stats.norm.rvs(loc=0,scale=1,size=n)\n",
        "  t,p = stats.ttest_ind(a,b)\n",
        "  P.append(p);T.append(t)\n",
        "\n",
        "plt.hist(P,cumulative=True, bins = bins, density = True);plt.xlabel('p');plt.ylabel('cumulative fraction');plt.grid();plt.show();\n",
        "#note that the p-values are uniformly distributed\n"
      ],
      "execution_count": null,
      "outputs": [
        {
          "output_type": "display_data",
          "data": {
            "image/png": "[encoded data removed]",
            "text/plain": [
              "<Figure size 432x288 with 1 Axes>"
            ]
          },
          "metadata": {
            "tags": [],
            "needs_background": "light"
          }
        }
      ]
    },
    {
      "cell_type": "markdown",
      "metadata": {
        "id": "owrZ6Yx402gv"
      },
      "source": [
        "Note that the probability of observing a p-value < 0.05 is actually 0.05 (notice the first bin). Thus, as expected based on the definition of the p-value, there is a 5% chance for us to (wrongly) reject the null hypothesis and say that the means not same when, in reality, they are!\n",
        "\n",
        "Let's redo the above experiment when the means are actually different. Notice the different \"loc\" parameter in the code below."
      ]
    },
    {
      "cell_type": "code",
      "metadata": {
        "colab": {
          "base_uri": "https://localhost:8080/",
          "height": 279
        },
        "id": "e5uciL5v0D6h",
        "outputId": "b0c98522-c63d-4971-937d-2a431e5a8d76"
      },
      "source": [
        "#let's redo this experiment with two different distributions\n",
        "\n",
        "T = [];P=[]\n",
        "for _ in range(1000):\n",
        "  a = stats.norm.rvs(loc=0,scale=1,size=n)\n",
        "  b = stats.norm.rvs(loc=1.0,scale=1,size=n)\n",
        "  t,p = stats.ttest_ind(a,b)\n",
        "  P.append(p);T.append(t)\n",
        "\n",
        "plt.hist(P,cumulative=True, bins = bins, density = True);plt.xlabel('p');plt.ylabel('cumulative fraction');plt.grid();plt.show();\n"
      ],
      "execution_count": null,
      "outputs": [
        {
          "output_type": "display_data",
          "data": {
            "image/png": "[encoded data removed]",
            "text/plain": [
              "<Figure size 432x288 with 1 Axes>"
            ]
          },
          "metadata": {
            "tags": [],
            "needs_background": "light"
          }
        }
      ]
    },
    {
      "cell_type": "markdown",
      "metadata": {
        "id": "QDrnMkOl2srE"
      },
      "source": [
        "Notice that the fraction of trials in which the p-value is less than 0.05 (first bin) is now larger. However, because the sample size is too small, we may not be able to reject the null hypothesis for more than 80% of the trails even though it is false.\n",
        "\n",
        "To understand this better, let's redo the trials but this time with a larger difference between the means."
      ]
    },
    {
      "cell_type": "code",
      "metadata": {
        "colab": {
          "base_uri": "https://localhost:8080/",
          "height": 279
        },
        "id": "FcHjIXyn2r2j",
        "outputId": "394090cb-8efb-4eb7-a10e-61a3d54697a2"
      },
      "source": [
        "#note that the distribution is a bit more skewed towards 0.0\n",
        "#As the difference between the means becomes larger, the more skewed it becomes\n",
        "\n",
        "T = [];P=[]\n",
        "for _ in range(1000):\n",
        "  a = stats.norm.rvs(loc=0,scale=1,size=n)\n",
        "  b = stats.norm.rvs(loc=2.0,scale=1,size=n)\n",
        "  t,p = stats.ttest_ind(a,b)\n",
        "  P.append(p);T.append(t)\n",
        "\n",
        "plt.hist(P,cumulative=True, bins = bins, density = True);plt.xlabel('p');plt.ylabel('cumulative fraction');plt.grid();plt.show();"
      ],
      "execution_count": null,
      "outputs": [
        {
          "output_type": "display_data",
          "data": {
            "image/png": "[encoded data removed]",
            "text/plain": [
              "<Figure size 432x288 with 1 Axes>"
            ]
          },
          "metadata": {
            "tags": [],
            "needs_background": "light"
          }
        }
      ]
    },
    {
      "cell_type": "markdown",
      "metadata": {
        "id": "69Oyf80A3Z_f"
      },
      "source": [
        "As expected, the proportion of p-values < 0.05 has now increased to about 50%. However, we would still be unable to reject the null hypothesis in the remaining cases. Let's try with a larger difference between the means."
      ]
    },
    {
      "cell_type": "code",
      "metadata": {
        "colab": {
          "base_uri": "https://localhost:8080/",
          "height": 279
        },
        "id": "FmhOk0lK3wTh",
        "outputId": "9158a48a-cef8-4d77-fda4-e94faa77696d"
      },
      "source": [
        "#note that the distribution is a bit more skewed towards 0.0\n",
        "#As the difference between the means becomes larger, the more skewed it becomes\n",
        "\n",
        "T = [];P=[]\n",
        "for _ in range(1000):\n",
        "  a = stats.norm.rvs(loc=0,scale=1,size=n)\n",
        "  b = stats.norm.rvs(loc=3.0,scale=1,size=n)\n",
        "  t,p = stats.ttest_ind(a,b)\n",
        "  P.append(p);T.append(t)\n",
        "\n",
        "plt.hist(P,cumulative=True, bins = bins, density = True);plt.xlabel('p');plt.ylabel('cumulative fraction');plt.grid();plt.show();"
      ],
      "execution_count": null,
      "outputs": [
        {
          "output_type": "display_data",
          "data": {
            "image/png": "[encoded data removed]",
            "text/plain": [
              "<Figure size 432x288 with 1 Axes>"
            ]
          },
          "metadata": {
            "tags": [],
            "needs_background": "light"
          }
        }
      ]
    },
    {
      "cell_type": "markdown",
      "metadata": {
        "id": "zprXXXTx348S"
      },
      "source": [
        "Again, as expected, the proportion of p-values < 0.05 has now increased to about 80%. Let's increase the difference further."
      ]
    },
    {
      "cell_type": "code",
      "metadata": {
        "colab": {
          "base_uri": "https://localhost:8080/",
          "height": 279
        },
        "id": "-eT1wRX734Sd",
        "outputId": "032e1745-f284-4e5b-d575-4468e6be98fd"
      },
      "source": [
        "#note that the distribution is a bit more skewed towards 0.0\n",
        "#As the difference between the means becomes larger, the more skewed it becomes\n",
        "\n",
        "T = [];P=[]\n",
        "for _ in range(1000):\n",
        "  a = stats.norm.rvs(loc=0,scale=1,size=n)\n",
        "  b = stats.norm.rvs(loc=5.0,scale=1,size=n)\n",
        "  t,p = stats.ttest_ind(a,b)\n",
        "  P.append(p);T.append(t)\n",
        "\n",
        "plt.hist(P,cumulative=True, bins = bins, density = True);plt.xlabel('p');plt.ylabel('cumulative fraction');plt.grid();plt.show();"
      ],
      "execution_count": null,
      "outputs": [
        {
          "output_type": "display_data",
          "data": {
            "image/png": "[encoded data removed]",
            "text/plain": [
              "<Figure size 432x288 with 1 Axes>"
            ]
          },
          "metadata": {
            "tags": [],
            "needs_background": "light"
          }
        }
      ]
    },
    {
      "cell_type": "markdown",
      "metadata": {
        "id": "yaQGSGmB4S0H"
      },
      "source": [
        "Now, because the effect size is quite large, we can reject the null hypothesis for all the time.\n",
        "\n",
        "Let's redo this experiment by increasing the number of samples (from 3 to 10) but with a small difference (1.0) between the means.\n"
      ]
    },
    {
      "cell_type": "code",
      "metadata": {
        "colab": {
          "base_uri": "https://localhost:8080/",
          "height": 279
        },
        "id": "fJATap2_4SPR",
        "outputId": "08adc3bb-d838-4c1e-9a61-6e553fdacde2"
      },
      "source": [
        "n = 10\n",
        "T = [];P=[]\n",
        "for _ in range(1000):\n",
        "  a = stats.norm.rvs(loc=0,scale=1,size=n)\n",
        "  b = stats.norm.rvs(loc=1.0,scale=1,size=n)\n",
        "  t,p = stats.ttest_ind(a,b)\n",
        "  P.append(p);T.append(t)\n",
        "\n",
        "plt.hist(P,cumulative=True, bins = bins, density = True);plt.xlabel('p');plt.ylabel('cumulative fraction');plt.grid();plt.show();"
      ],
      "execution_count": null,
      "outputs": [
        {
          "output_type": "display_data",
          "data": {
            "image/png": "[encoded data removed]",
            "text/plain": [
              "<Figure size 432x288 with 1 Axes>"
            ]
          },
          "metadata": {
            "tags": [],
            "needs_background": "light"
          }
        }
      ]
    },
    {
      "cell_type": "markdown",
      "metadata": {
        "id": "S92HdeiY5UfX"
      },
      "source": [
        "As we can see above, increasing the number of samples allows us to reject the null hypothesis more than 50% of the time as opposed to ~15% for the same difference in means when the number of samples was n = 3.\n",
        "\n",
        "Let's see what happends when we increase the number of samples even further to n = 40.\n",
        "\n"
      ]
    },
    {
      "cell_type": "code",
      "metadata": {
        "colab": {
          "base_uri": "https://localhost:8080/",
          "height": 279
        },
        "id": "NgvAdAqx5wzp",
        "outputId": "c1acad14-9d81-4342-b9a4-607ca2446e2d"
      },
      "source": [
        "n = 40\n",
        "T = [];P=[]\n",
        "for _ in range(1000):\n",
        "  a = stats.norm.rvs(loc=0,scale=1,size=n)\n",
        "  b = stats.norm.rvs(loc=1.0,scale=1,size=n)\n",
        "  t,p = stats.ttest_ind(a,b)\n",
        "  P.append(p);T.append(t)\n",
        "\n",
        "plt.hist(P,cumulative=True, bins = bins, density = True);plt.xlabel('p');plt.ylabel('cumulative fraction');plt.grid();plt.show();"
      ],
      "execution_count": null,
      "outputs": [
        {
          "output_type": "display_data",
          "data": {
            "image/png": "[encoded data removed]",
            "text/plain": [
              "<Figure size 432x288 with 1 Axes>"
            ]
          },
          "metadata": {
            "tags": [],
            "needs_background": "light"
          }
        }
      ]
    },
    {
      "cell_type": "markdown",
      "metadata": {
        "id": "G9l6vzQv5791"
      },
      "source": [
        "As we can see, now that we have a larger sample size, we can reject the null hypothesis for all trials.\n",
        "\n",
        "The lesson from this exercise are:\n",
        "\n",
        "1. P-values are random variables themeselves. You can expect to see different p-values if you repeat your experiment.\n",
        "2. If you see a p-value < 0.05 in one particular outcome of your experiment (esp. with a small sample size), this can happen simply due to chance and your findings may not be reproducible on a larger sample. Search for data dredging or p-value hacking online and don't do it.\n",
        "3. Unless your true effect size or sample size is large, you may not have enough \"[statistical power](https://en.wikipedia.org/wiki/Power_of_a_test)\" to reject the null hypothesis even if the null hypothesis is false.\n",
        "4. It is important to keep the assumptions of the statistical test in mind when using p-values or tests for accepting or rejecting hypothesis.\n",
        "5. If you are unable to reject the null hypothesis, this \"negative result\" be still be used to get an idea of an effective number of samples for your experiment using power analysis as described below. In such scenarios, use independent new samples to see if the hypothesis holds or not. You may need to use other strategies for power-law estimation depending upon the precise test being used."
      ]
    },
    {
      "cell_type": "code",
      "metadata": {
        "id": "8ET4e14ro0L5",
        "colab": {
          "base_uri": "https://localhost:8080/"
        },
        "outputId": "baf2da59-9c84-4b68-982c-f852b1091b67"
      },
      "source": [
        "from statsmodels.stats.power import TTestIndPower\n",
        "from numpy.random import randn\n",
        "from numpy.random import seed\n",
        "from numpy import mean\n",
        "from numpy import var\n",
        "from math import sqrt\n",
        "def cohend(d1, d2):\n",
        "  # calculate the size of samples\n",
        "  n1, n2 = len(d1), len(d2)\n",
        "  # calculate the variance of the samples\n",
        "  s1, s2 = var(d1, ddof=1), var(d2, ddof=1)\n",
        "  # calculate the pooled standard deviation\n",
        "  s = sqrt(((n1 - 1) * s1 + (n2 - 1) * s2) / (n1 + n2 - 2))\n",
        "  # calculate the means of the samples\n",
        "  u1, u2 = mean(d1), mean(d2)\n",
        "  # calculate the effect size\n",
        "  return (u1 - u2) / s\n",
        "\n",
        "n = 3\n",
        "a = stats.norm.rvs(loc=0,scale=1,size=n)\n",
        "b = stats.norm.rvs(loc=1.0,scale=1,size=n)\n",
        "t,p = stats.ttest_ind(a,b)\n",
        "print(\"p-value when the null-hypothesis is false for n = 3 is\",p)\n",
        "# estimate sample size via power analysis\n",
        "from statsmodels.stats.power import TTestIndPower\n",
        "# parameters for power analysis\n",
        "effect = cohend(a,b)\n",
        "alpha = 0.05\n",
        "power = 0.8\n",
        "# perform power analysis\n",
        "analysis = TTestIndPower()\n",
        "result = analysis.solve_power(effect, power=power, nobs1=None, ratio=1.0, alpha=alpha)\n",
        "print('Sample Size: %.3f' % result)"
      ],
      "execution_count": null,
      "outputs": [
        {
          "output_type": "stream",
          "text": [
            "p-value when the null-hypothesis is false for n = 3 is 0.673537989079062\n",
            "Sample Size: 115.334\n"
          ],
          "name": "stdout"
        }
      ]
    },
    {
      "cell_type": "code",
      "metadata": {
        "colab": {
          "base_uri": "https://localhost:8080/",
          "height": 279
        },
        "id": "6gb_V00dq_Dw",
        "outputId": "58630e3e-3707-40c8-f31e-802330e4d955"
      },
      "source": [
        "n = 16\n",
        "T = [];P=[]\n",
        "for _ in range(1000):\n",
        "  a = stats.norm.rvs(loc=0,scale=1,size=n)\n",
        "  b = stats.norm.rvs(loc=0.0,scale=1,size=n)\n",
        "  t,p = stats.ttest_ind(a,b)\n",
        "  P.append(p);T.append(t)\n",
        "\n",
        "plt.hist(P,cumulative=True, bins = bins, density = True);plt.xlabel('p');plt.ylabel('cumulative fraction');plt.grid();plt.show();"
      ],
      "execution_count": null,
      "outputs": [
        {
          "output_type": "display_data",
          "data": {
            "image/png": "[encoded data removed]",
            "text/plain": [
              "<Figure size 432x288 with 1 Axes>"
            ]
          },
          "metadata": {
            "tags": [],
            "needs_background": "light"
          }
        }
      ]
    },
    {
      "cell_type": "code",
      "metadata": {
        "colab": {
          "base_uri": "https://localhost:8080/",
          "height": 279
        },
        "id": "qNxY1kAhuVkA",
        "outputId": "de33a4fe-ac0a-4510-e114-6d9aefbc013f"
      },
      "source": [
        "T = [];P=[]\n",
        "for _ in range(1000):\n",
        "  a = stats.norm.rvs(loc=0,scale=1,size=n)\n",
        "  b = stats.norm.rvs(loc=1.0,scale=1,size=n)\n",
        "  t,p = stats.ttest_ind(a,b)\n",
        "  P.append(p);T.append(t)\n",
        "\n",
        "plt.hist(P,cumulative=True, bins = bins, density = True);plt.xlabel('p');plt.ylabel('cumulative fraction');plt.grid();plt.show();"
      ],
      "execution_count": null,
      "outputs": [
        {
          "output_type": "display_data",
          "data": {
            "image/png": "[encoded data removed]",
            "text/plain": [
              "<Figure size 432x288 with 1 Axes>"
            ]
          },
          "metadata": {
            "tags": [],
            "needs_background": "light"
          }
        }
      ]
    },
    {
      "cell_type": "code",
      "metadata": {
        "id": "QlknveHj-JCm"
      },
      "source": [],
      "execution_count": null,
      "outputs": []
    }
  ]
}